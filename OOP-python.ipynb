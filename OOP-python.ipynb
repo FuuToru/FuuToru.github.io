{
 "cells": [
  {
   "cell_type": "markdown",
   "metadata": {},
   "source": [
    "Object Orientated Programming in Python"
   ]
  },
  {
   "cell_type": "markdown",
   "metadata": {},
   "source": [
    "explanation self: self is define specific variables"
   ]
  },
  {
   "cell_type": "code",
   "execution_count": 6,
   "metadata": {},
   "outputs": [
    {
     "name": "stdout",
     "output_type": "stream",
     "text": [
      "12\n"
     ]
    }
   ],
   "source": [
    "class Dog:\n",
    "    def __init__(self, name, age):\n",
    "        self.name = name\n",
    "        self.age = age\n",
    "    def get_age(self):\n",
    "        return self.age\n",
    "    def add_one(self, x):\n",
    "        return x + 1\n",
    "    \n",
    "d = Dog('tim',12)\n",
    "print(d.get_age())"
   ]
  },
  {
   "cell_type": "markdown",
   "metadata": {},
   "source": [
    "multiple classes"
   ]
  },
  {
   "cell_type": "code",
   "execution_count": 14,
   "metadata": {},
   "outputs": [
    {
     "name": "stdout",
     "output_type": "stream",
     "text": [
      "85.0\n"
     ]
    }
   ],
   "source": [
    "class Student:\n",
    "    def __init__(self, name, age, grade):\n",
    "        self.name = name\n",
    "        self.age = age\n",
    "        self.grade = grade\n",
    "    \n",
    "    def get_grade(self):\n",
    "        return self.grade\n",
    "    \n",
    "class Course:\n",
    "    def __init__(self, name, max_students):\n",
    "        self.name = name\n",
    "        self.max_students = max_students\n",
    "        self.students = []\n",
    "    \n",
    "    def add_student(self, student):\n",
    "        if len(self.students)< self.max_students:\n",
    "            self.students.append(student)\n",
    "            return True\n",
    "        return False\n",
    "    \n",
    "    def get_average_grade(self):\n",
    "        value = 0 \n",
    "        for student in self.students:\n",
    "            value += student.get_grade()\n",
    "        return value / len(self.students)\n",
    "\n",
    "s1 = Student(\"Tim\", 19, 95)\n",
    "s2 = Student(\"Bill\",19, 75)\n",
    "s3 = Student(\"Jill\", 19, 65)\n",
    "\n",
    "course = Course(\"Science\", 2)\n",
    "course.add_student(s1)\n",
    "course.add_student(s2)\n",
    "print(course.get_average_grade())"
   ]
  },
  {
   "cell_type": "markdown",
   "metadata": {},
   "source": [
    "inheritance"
   ]
  },
  {
   "cell_type": "code",
   "execution_count": null,
   "metadata": {},
   "outputs": [],
   "source": [
    "class Cat:\n",
    "    def __init__(self, name, age):\n",
    "        self.name = name\n",
    "        self.age = age\n",
    "    def get_age(self):\n",
    "        return self.age\n",
    "    def add_one(self, x):\n",
    "        return x + 1\n",
    "\n",
    "class Dog:\n",
    "    def __init__(self, name, age):\n",
    "        self.name = name\n",
    "        self.age = age\n",
    "    def get_age(self):\n",
    "        return self.age\n",
    "    def add_one(self, x):\n",
    "        return x + 1"
   ]
  },
  {
   "cell_type": "markdown",
   "metadata": {},
   "source": [
    "Don't write like it -> it's not inheritance in OOP"
   ]
  },
  {
   "cell_type": "code",
   "execution_count": 27,
   "metadata": {},
   "outputs": [
    {
     "name": "stdout",
     "output_type": "stream",
     "text": [
      "I am Tim and I am 19 years old\n",
      "I don't know what to say\n",
      "Meow\n"
     ]
    },
    {
     "data": {
      "text/plain": [
       "'I am Bill and I am 34 years old and I am Brown'"
      ]
     },
     "execution_count": 27,
     "metadata": {},
     "output_type": "execute_result"
    }
   ],
   "source": [
    "class Pet:\n",
    "    def __init__(self, name, age):\n",
    "        self.name = name\n",
    "        self.age = age\n",
    "    \n",
    "    def show(self):\n",
    "        print(f\"I am {self.name} and I am {self.age} years old\")\n",
    "    \n",
    "    def speak(self):\n",
    "        print(\"I don't know what to say\")\n",
    "\n",
    "class Cat(Pet):\n",
    "    def __init__(self, name, age, color):\n",
    "        super().__init__(name, age)\n",
    "        self.color = color\n",
    "\n",
    "    def speak(self):\n",
    "        print(\"Meow\")\n",
    "    \n",
    "    def show(self):\n",
    "        return f\"I am {self.name} and I am {self.age} years old and I am {self.color}\"\n",
    "\n",
    "class Dog(Pet):\n",
    "    def speak(self):\n",
    "        print(\"Bark\")\n",
    "    \n",
    "class Fish(Pet):\n",
    "    pass\n",
    "\n",
    "\n",
    "p = Pet(\"Tim\", 19)\n",
    "p.show()\n",
    "p.speak()\n",
    "\n",
    "c = Cat(\"Bill\", 34, \"Brown\")\n",
    "c.speak()\n",
    "c.show()\n",
    "\n",
    "# d = Dog(\"Jill\", 25)\n",
    "# d.show()\n",
    "# d.speak()\n",
    "\n",
    "# f = Fish(\"Bubbles\", 10)\n",
    "# f.speak()"
   ]
  },
  {
   "cell_type": "markdown",
   "metadata": {},
   "source": [
    "the same speak, so it override at class child"
   ]
  },
  {
   "cell_type": "markdown",
   "metadata": {},
   "source": [
    "@classmethod"
   ]
  },
  {
   "cell_type": "code",
   "execution_count": 29,
   "metadata": {},
   "outputs": [
    {
     "name": "stdout",
     "output_type": "stream",
     "text": [
      "2\n"
     ]
    }
   ],
   "source": [
    "class Person:\n",
    "    number_of_people = 0\n",
    "    GRAVITY = -9.8\n",
    "\n",
    "    def __init__(self, name):\n",
    "        self.name = name\n",
    "        Person.add_person()\n",
    "    \n",
    "    @classmethod\n",
    "    def number_of_people_(cls):\n",
    "        return cls.number_of_people\n",
    "    \n",
    "    @classmethod\n",
    "    def add_person(cls):\n",
    "        cls.number_of_people += 1\n",
    "\n",
    "p1 = Person(\"Tim\")\n",
    "p2 = Person(\"Jill\")\n",
    "print(Person.number_of_people_())"
   ]
  },
  {
   "cell_type": "markdown",
   "metadata": {},
   "source": [
    "@staticmethod"
   ]
  },
  {
   "cell_type": "code",
   "execution_count": 43,
   "metadata": {},
   "outputs": [
    {
     "name": "stdout",
     "output_type": "stream",
     "text": [
      "run\n",
      "None\n"
     ]
    }
   ],
   "source": [
    "class Math:\n",
    "    @staticmethod\n",
    "    def add5(x):\n",
    "        return x + 5\n",
    "    \n",
    "    @staticmethod\n",
    "    def add10(x):\n",
    "        return x + 10\n",
    "    \n",
    "    @staticmethod\n",
    "    def pr():\n",
    "        print(\"run\")\n",
    "\n",
    "print(Math.pr())"
   ]
  },
  {
   "cell_type": "code",
   "execution_count": null,
   "metadata": {},
   "outputs": [],
   "source": []
  }
 ],
 "metadata": {
  "kernelspec": {
   "display_name": "Python 3",
   "language": "python",
   "name": "python3"
  },
  "language_info": {
   "codemirror_mode": {
    "name": "ipython",
    "version": 3
   },
   "file_extension": ".py",
   "mimetype": "text/x-python",
   "name": "python",
   "nbconvert_exporter": "python",
   "pygments_lexer": "ipython3",
   "version": "3.11.6"
  }
 },
 "nbformat": 4,
 "nbformat_minor": 2
}
